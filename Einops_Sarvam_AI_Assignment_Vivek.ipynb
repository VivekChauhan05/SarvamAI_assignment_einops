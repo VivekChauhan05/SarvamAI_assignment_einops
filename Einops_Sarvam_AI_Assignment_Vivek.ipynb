{
  "cells": [
    {
      "cell_type": "markdown",
      "metadata": {
        "id": "yKe2sRLbHEPh"
      },
      "source": [
        "# NumPy Rearrange Implementation\n",
        "\n",
        "This notebook implements a `rearrange` function similar to `einops.rearrange` for NumPy arrays. The function allows flexible reshaping and transposing of arrays using a pattern string, such as 'h w -> w h' for transposition or 'b h w c -> b (h w) c' for merging axes.\n",
        "\n",
        "### Features\n",
        "- **Pattern Parsing**: Supports named axes, parentheses for grouping, and ellipsis (`...`) for batch dimensions.\n",
        "- **Transformations**: Handles splitting axes, merging axes, and reordering via reshape and transpose operations.\n",
        "- **Error Handling**: Comprehensive checks for invalid patterns, shape mismatches, and missing axis lengths.\n",
        "- **Tests**: Unit tests verify functionality across various scenarios.\n",
        "\n",
        "Run the implementation cell below, then execute the test cells to verify correctness."
      ]
    },
    {
      "cell_type": "markdown",
      "metadata": {
        "id": "0WGXqafDHSfu"
      },
      "source": [
        "# Implementation"
      ]
    },
    {
      "cell_type": "code",
      "execution_count": null,
      "metadata": {
        "id": "1URrZkPBKNCT"
      },
      "outputs": [],
      "source": [
        "import numpy as np\n",
        "import re\n",
        "from typing import List, Dict, Tuple, Optional, Set, Union\n",
        "from collections import OrderedDict\n",
        "import math\n",
        "\n",
        "# Custom Error Class as required\n",
        "class EinopsError(ValueError):\n",
        "    \"\"\"Custom error for einops operations.\"\"\"\n",
        "    pass\n",
        "\n",
        "# --- Pattern Parsing Logic (Simplified from einops/parsing.py) ---\n",
        "\n",
        "def _parse_expression(expression: str) -> Tuple[List[Union[List[str], str]], Set[str], bool, bool]:\n",
        "    \"\"\"\n",
        "    Parses one side of the einops pattern (e.g., 'b c (h w)').\n",
        "\n",
        "    Args:\n",
        "        expression: The pattern string for one side.\n",
        "\n",
        "    Returns:\n",
        "        A tuple containing:\n",
        "            - composition: List representing the structure (e.g., [['b'], ['c'], ['h', 'w']]). Ellipsis is represented by '...'.\n",
        "            - identifiers: Set of unique axis names found.\n",
        "            - has_ellipsis: Boolean indicating if ellipsis was present.\n",
        "            - has_ellipsis_parenthesized: Boolean indicating if ellipsis was inside parentheses.\n",
        "\n",
        "    Raises:\n",
        "        EinopsError: If the pattern is invalid (e.g., duplicate axes, invalid names, misplaced ellipsis).\n",
        "    \"\"\"\n",
        "    composition = []  # List to hold the parsed composition of axes\n",
        "    identifiers = set()  # Set to store unique axis names\n",
        "    has_ellipsis = False  # Flag to indicate presence of ellipsis\n",
        "    has_ellipsis_parenthesized = False  # Flag to indicate if ellipsis is within parentheses\n",
        "    current_group = None  # Temporary list for axes inside parentheses\n",
        "\n",
        "    # Standardize whitespace and handle ellipsis representation\n",
        "    expression = expression.strip()  # Remove leading and trailing whitespace\n",
        "    if '.' in expression:\n",
        "        if '...' not in expression or expression.count('...') > 1 or expression.count('.') != 3:\n",
        "             raise EinopsError(\"Expression may contain dots only inside ellipsis (...); only one ellipsis allowed.\")\n",
        "        expression = expression.replace('...', '_ellipsis_')  # Replace ellipsis with a temporary placeholder\n",
        "        has_ellipsis = True  # Set flag to indicate ellipsis presence\n",
        "\n",
        "    tokens = re.split(r'([\\(\\)\\s])', expression)  # Split expression into tokens, preserving parentheses and spaces\n",
        "    tokens = [t for t in tokens if t and not t.isspace()]  # Filter out empty tokens and whitespace\n",
        "\n",
        "    i = 0  # Initialize token index\n",
        "    while i < len(tokens):\n",
        "        token = tokens[i]  # Get current token\n",
        "\n",
        "        if token == '(':\n",
        "            if current_group is not None:\n",
        "                raise EinopsError(\"Nested parentheses are not allowed.\")\n",
        "            current_group = []  # Start a new group for axes within parentheses\n",
        "        elif token == ')':\n",
        "            if current_group is None:\n",
        "                raise EinopsError(\"Mismatched parentheses.\")\n",
        "            if not current_group:\n",
        "                raise EinopsError(\"Empty parentheses are not allowed.\")\n",
        "            composition.append(current_group)  # Add completed group to composition\n",
        "            current_group = None  # Reset current group\n",
        "        else:\n",
        "            # Validate axis name\n",
        "            if not re.match(r'^[a-zA-Z_][a-zA-Z0-9_]*$|^_ellipsis_$', token):\n",
        "                 # Allow numbers only if they represent anonymous axes (not supported here for rearrange)\n",
        "                 # For rearrange, we only expect named axes or ellipsis placeholder\n",
        "                if not token.isdigit():  # Check if token is not a number\n",
        "                    raise EinopsError(f\"Invalid axis identifier: '{token}'. Use letters, numbers, underscores, or '...' (ellipsis).\")\n",
        "                # For rearrange, anonymous axes (numbers) are generally not used unless it's 1 (ignored)\n",
        "                # We'll raise error later if needed, parser just flags it.\n",
        "                if token.isdigit() and token != '1':\n",
        "                     raise EinopsError(f\"Numerical axes like '{token}' are not directly supported in rearrange for splitting/merging by name. Use parentheses.\")\n",
        "\n",
        "            axis_name = token.replace('_ellipsis_', '...')  # Restore ellipsis from placeholder\n",
        "\n",
        "            if axis_name == '...':\n",
        "                if axis_name in identifiers:\n",
        "                     raise EinopsError(\"Ellipsis (...) can only appear once.\")\n",
        "                has_ellipsis_parenthesized = (current_group is not None)  # Set flag if ellipsis is in parentheses\n",
        "            elif axis_name in identifiers:\n",
        "                raise EinopsError(f\"Duplicate axis identifier: '{axis_name}'\")\n",
        "\n",
        "            identifiers.add(axis_name)  # Add axis name to set of identifiers\n",
        "\n",
        "            if current_group is None:\n",
        "                # If axis is '1', treat it as an empty composition (ignore)\n",
        "                if axis_name == '1':\n",
        "                    composition.append([])  # Add empty list for axis '1'\n",
        "                else:\n",
        "                    composition.append([axis_name])  # Add single-axis list to composition\n",
        "            else:\n",
        "                 # Ignore '1' inside parentheses as well\n",
        "                if axis_name != '1':\n",
        "                    current_group.append(axis_name)  # Add axis to current group\n",
        "\n",
        "        i += 1  # Increment token index\n",
        "\n",
        "    if current_group is not None:\n",
        "        raise EinopsError(\"Mismatched parentheses.\")  # Check for unclosed parentheses\n",
        "\n",
        "    # Final check for ellipsis placement if parenthesized\n",
        "    if has_ellipsis_parenthesized:\n",
        "        # Find the group containing ellipsis\n",
        "        ellipsis_group_found = False  # Flag to track ellipsis group\n",
        "        for group in composition:\n",
        "            if isinstance(group, list) and '...' in group:\n",
        "                if ellipsis_group_found:\n",
        "                     raise EinopsError(\"Ellipsis (...) cannot appear in multiple groups.\")\n",
        "                ellipsis_group_found = True  # Mark ellipsis group found\n",
        "                # Ellipsis must be the only element if inside parentheses on the left side (implied later in recipe)\n",
        "                # No specific check needed here, handled during recipe creation/validation\n",
        "\n",
        "    # Remove the temporary placeholder if it wasn't used (no ellipsis)\n",
        "    identifiers.discard('_ellipsis_')  # Remove placeholder from identifiers\n",
        "\n",
        "    return composition, identifiers, has_ellipsis, has_ellipsis_parenthesized  # Return parsed results\n",
        "\n",
        "# --- Recipe Preparation (Simplified from einops.py _prepare_transformation_recipe) ---\n",
        "\n",
        "def _prepare_rearrange_recipe(\n",
        "    pattern: str,\n",
        "    axes_lengths: Dict[str, int],\n",
        "    shape: Tuple[int, ...]\n",
        ") -> Tuple[Optional[List[int]], Optional[List[int]], Optional[List[int]]]:\n",
        "    \"\"\"\n",
        "    Parses the pattern and input shape to create a \"recipe\" for rearrange.\n",
        "    The recipe consists of shapes for initial reshape, axes permutation, and final reshape.\n",
        "\n",
        "    Args:\n",
        "        pattern: The einops pattern string (e.g., 'b h w c -> b c h w').\n",
        "        axes_lengths: Dictionary mapping axis names to their lengths for decomposition/repeating.\n",
        "        shape: The shape of the input NumPy array.\n",
        "\n",
        "    Returns:\n",
        "        A tuple containing:\n",
        "            - init_reshape_shape: Shape for the initial reshape (for decomposition), or None.\n",
        "            - axes_permutation: Order of axes for transposition, or None.\n",
        "            - final_reshape_shape: Shape for the final reshape (for merging/repeating), or None.\n",
        "\n",
        "    Raises:\n",
        "        EinopsError: For various issues like invalid patterns, mismatched shapes,\n",
        "                     missing/incorrect axes_lengths.\n",
        "    \"\"\"\n",
        "    if '->' not in pattern:\n",
        "        raise EinopsError(\"Pattern must include '->' separator.\")  # Validate pattern format\n",
        "\n",
        "    left_str, right_str = pattern.split('->')  # Split pattern into left and right parts\n",
        "    left_composition, left_identifiers, left_has_ellipsis, left_ellipsis_paren = _parse_expression(left_str)  # Parse left side\n",
        "    right_composition, right_identifiers, right_has_ellipsis, right_ellipsis_paren = _parse_expression(right_str)  # Parse right side\n",
        "\n",
        "    # --- Basic Validation ---\n",
        "    if left_ellipsis_paren:\n",
        "        raise EinopsError(\"Ellipsis (...) cannot be inside parentheses on the left side.\")  # Check ellipsis placement\n",
        "    if left_has_ellipsis != right_has_ellipsis:\n",
        "         raise EinopsError(\"Ellipsis (...) must appear on both sides or neither.\")  # Ensure ellipsis consistency\n",
        "    if left_identifiers != right_identifiers:\n",
        "        diff = left_identifiers.symmetric_difference(right_identifiers)  # Compute identifier differences\n",
        "        # Check if difference is only due to '1' axes which are ignored\n",
        "        if diff != {'1'}:\n",
        "             raise EinopsError(f\"Identifiers must be the same on both sides for rearrange. Difference: {diff}\")  # Validate identifiers match\n",
        "\n",
        "    # --- Ellipsis Handling ---\n",
        "    input_ndim = len(shape)  # Get number of input dimensions\n",
        "    ellipsis_ndim = 0  # Initialize ellipsis dimension count\n",
        "    if left_has_ellipsis:\n",
        "        # Count non-ellipsis dimensions on the left\n",
        "        non_ellipsis_dims_left = sum(1 for group in left_composition if group != ['...'])  # Count non-ellipsis groups\n",
        "        if input_ndim < non_ellipsis_dims_left:\n",
        "            raise EinopsError(f\"Input tensor has {input_ndim} dimensions, but pattern expects at least {non_ellipsis_dims_left} non-ellipsis dimensions.\")\n",
        "        ellipsis_ndim = input_ndim - non_ellipsis_dims_left  # Calculate ellipsis dimensions\n",
        "\n",
        "        # Replace '...' with actual ellipsis axes names ('_ellipsis_0', '_ellipsis_1', ...)\n",
        "        ellipsis_axes = [f'_ellipsis_{i}' for i in range(ellipsis_ndim)]  # Generate ellipsis axis names\n",
        "        new_left_composition = []  # New composition for left side\n",
        "        for group in left_composition:\n",
        "            if group == ['...']:\n",
        "                new_left_composition.extend([[axis] for axis in ellipsis_axes])  # Expand ellipsis into axes\n",
        "            else:\n",
        "                new_left_composition.append(group)  # Keep non-ellipsis group\n",
        "        left_composition = new_left_composition  # Update left composition\n",
        "\n",
        "        new_right_composition = []  # New composition for right side\n",
        "        for group in right_composition:\n",
        "             if isinstance(group, list):  # Process list groups\n",
        "                 new_group = []  # Temporary group list\n",
        "                 contains_ellipsis = False  # Flag for ellipsis in group\n",
        "                 for axis in group:\n",
        "                     if axis == '...':\n",
        "                         new_group.extend(ellipsis_axes)  # Expand ellipsis in group\n",
        "                         contains_ellipsis = True\n",
        "                     else:\n",
        "                         new_group.append(axis)  # Add non-ellipsis axis\n",
        "                 # If the original group was just ['...'], extend directly\n",
        "                 if group == ['...']:\n",
        "                      new_right_composition.extend([[axis] for axis in ellipsis_axes])  # Expand standalone ellipsis\n",
        "                 else:\n",
        "                     new_right_composition.append(new_group)  # Add modified group\n",
        "             elif group == '...':  # Handle standalone ellipsis\n",
        "                 new_right_composition.extend([[axis] for axis in ellipsis_axes])  # Expand standalone ellipsis\n",
        "             else:  # Safeguard for unexpected cases\n",
        "                 new_right_composition.append(group)  # Add unchanged group\n",
        "\n",
        "        right_composition = new_right_composition  # Update right composition\n",
        "\n",
        "        # Update identifiers\n",
        "        left_identifiers.remove('...')  # Remove ellipsis from left identifiers\n",
        "        right_identifiers.remove('...')  # Remove ellipsis from right identifiers\n",
        "        left_identifiers.update(ellipsis_axes)  # Add ellipsis axes to left identifiers\n",
        "        right_identifiers.update(ellipsis_axes)  # Add ellipsis axes to right identifiers\n",
        "\n",
        "    elif input_ndim != len(left_composition):\n",
        "         raise EinopsError(f\"Input tensor has {input_ndim} dimensions, but pattern expects {len(left_composition)}.\")  # Validate dimension count\n",
        "\n",
        "    # --- Axis Length Inference and Validation ---\n",
        "    axis_name_to_length: Dict[str, int] = {}  # Dictionary to store axis lengths\n",
        "    inferred_axes: Set[str] = set()  # Set to track inferred axes\n",
        "\n",
        "    # Populate known lengths from axes_lengths argument\n",
        "    for name, length in axes_lengths.items():\n",
        "        if name not in left_identifiers:  # Check if axis is in pattern\n",
        "            # Allow specification for axes only used in decomposition, check later\n",
        "            pass  # Placeholder for potential stricter validation\n",
        "        if not isinstance(length, int) or length <= 0:\n",
        "            raise EinopsError(f\"Axis '{name}' must have a positive integer length, got {length}.\")\n",
        "        axis_name_to_length[name] = length  # Assign provided length\n",
        "\n",
        "    # Infer lengths from input shape and validate\n",
        "    current_dim_index = 0  # Index for input dimensions\n",
        "    axes_in_left_composition_flat = []  # Flat list of axes in left composition\n",
        "    for group in left_composition:\n",
        "        axes_in_group = group  # Current group of axes\n",
        "        axes_in_left_composition_flat.extend(axes_in_group)  # Add axes to flat list\n",
        "        input_dim_len = shape[current_dim_index]  # Get current dimension length\n",
        "\n",
        "        unknown_axes_in_group = [axis for axis in axes_in_group if axis not in axis_name_to_length]  # Identify unknown axes\n",
        "        known_axes_in_group = [axis for axis in axes_in_group if axis in axis_name_to_length]  # Identify known axes\n",
        "\n",
        "        product_of_known = 1  # Product of known axis lengths\n",
        "        for axis in known_axes_in_group:\n",
        "            product_of_known *= axis_name_to_length[axis]  # Multiply known lengths\n",
        "\n",
        "        if not unknown_axes_in_group:  # All axes in group are known\n",
        "            if product_of_known != input_dim_len:\n",
        "                raise EinopsError(\n",
        "                    f\"Dimension mismatch for input axis {current_dim_index} (group {' '.join(group)}): \"\n",
        "                    f\"Product of known axes lengths ({product_of_known}) != input dimension ({input_dim_len}).\"\n",
        "                )\n",
        "        elif len(unknown_axes_in_group) == 1:  # One unknown axis, infer its length\n",
        "            unknown_axis = unknown_axes_in_group[0]  # Get the unknown axis\n",
        "            if input_dim_len % product_of_known != 0:\n",
        "                 raise EinopsError(\n",
        "                    f\"Dimension mismatch for input axis {current_dim_index} (group {' '.join(group)}): \"\n",
        "                    f\"Input dimension ({input_dim_len}) is not divisible by product of known axes ({product_of_known}).\"\n",
        "                 )\n",
        "            inferred_length = input_dim_len // product_of_known  # Calculate inferred length\n",
        "            axis_name_to_length[unknown_axis] = inferred_length  # Assign inferred length\n",
        "            inferred_axes.add(unknown_axis)  # Mark axis as inferred\n",
        "            # Check if inferred length conflicts with axes_lengths if provided later (unlikely scenario)\n",
        "            if unknown_axis in axes_lengths and axes_lengths[unknown_axis] != inferred_length:\n",
        "                 raise EinopsError(f\"Inferred length for axis '{unknown_axis}' ({inferred_length}) conflicts with provided axes_lengths ({axes_lengths[unknown_axis]})\")\n",
        "        else:  # More than one unknown axis\n",
        "             raise EinopsError(\n",
        "                f\"Cannot infer lengths for multiple axes ({', '.join(unknown_axes_in_group)}) \"\n",
        "                f\"in group for input dimension {current_dim_index}. Provide lengths in axes_lengths.\"\n",
        "             )\n",
        "\n",
        "        current_dim_index += 1  # Move to next dimension\n",
        "\n",
        "    # --- Final Validation of axes_lengths ---\n",
        "    # Ensure all axes in axes_lengths were actually used for decomposition/composition or were inferred\n",
        "    provided_axes_set = set(axes_lengths.keys())  # Set of provided axes\n",
        "    all_elementary_axes = set(axis for group in left_composition for axis in group if axis != '...') | \\\n",
        "                           set(axis for group in right_composition for axis in group if axis != '...')  # All elementary axes\n",
        "    all_elementary_axes.update(ellipsis_axes if left_has_ellipsis else [])  # Add ellipsis axes if present\n",
        "\n",
        "    # Check for provided lengths that were not needed/used\n",
        "    unused_provided_axes = provided_axes_set - all_elementary_axes  # Identify unused axes\n",
        "    if unused_provided_axes:\n",
        "        # This check might be too strict if user provides length for an axis that is only passed through\n",
        "        # We relax it: only complain if an axis name is *completely* unknown to the pattern\n",
        "        unknown_provided_axes = provided_axes_set - left_identifiers  # Find completely unknown axes\n",
        "        if unknown_provided_axes:\n",
        "             raise EinopsError(f\"Axes specified in axes_lengths not found in pattern: {unknown_provided_axes}\")\n",
        "\n",
        "    # --- Determine Reshape and Permutation Steps ---\n",
        "\n",
        "    # Step 1: Initial Reshape (Decomposition)\n",
        "    # Reshape is needed if any input dimension corresponds to more than one elementary axis.\n",
        "    needs_initial_reshape = any(len(group) > 1 for group in left_composition)  # Check if reshape is needed\n",
        "    init_reshape_shape = None  # Initialize initial reshape shape\n",
        "    current_elementary_axis_index = 0  # Index for elementary axes\n",
        "    elemental_axes_list_left = []  # Flat list of left-side elementary axes\n",
        "\n",
        "    if needs_initial_reshape:\n",
        "        init_reshape_shape = []  # List for initial reshape shape\n",
        "        original_index = 0  # Index for original shape dimensions\n",
        "        for group in left_composition:\n",
        "            if len(group) == 1:\n",
        "                 # If group has only one axis, keep its original dimension size\n",
        "                 init_reshape_shape.append(shape[original_index])  # Add original dimension\n",
        "                 elemental_axes_list_left.append(group[0])  # Add single axis\n",
        "            else:\n",
        "                 # If group has multiple axes, decompose into individual lengths\n",
        "                 group_lengths = [axis_name_to_length[axis] for axis in group]  # Get lengths for group axes\n",
        "                 init_reshape_shape.extend(group_lengths)  # Add lengths to shape\n",
        "                 elemental_axes_list_left.extend(group)  # Add axes to elementary list\n",
        "            original_index += 1  # Increment original index\n",
        "    else:\n",
        "        # No initial reshape, elemental axes directly correspond to input dimensions\n",
        "         elemental_axes_list_left = [group[0] for group in left_composition]  # Flatten left composition\n",
        "\n",
        "    # Step 2: Axes Permutation\n",
        "    # Determine the order of elementary axes as required by the right side.\n",
        "    elemental_axes_list_right = []  # Flat list of right-side elementary axes\n",
        "    for group in right_composition:\n",
        "         elemental_axes_list_right.extend(group)  # Add group axes to list\n",
        "\n",
        "    axes_permutation = None  # Initialize permutation\n",
        "    if elemental_axes_list_left != elemental_axes_list_right:\n",
        "        try:\n",
        "            axes_permutation = [elemental_axes_list_left.index(axis) for axis in elemental_axes_list_right]  # Compute permutation\n",
        "        except ValueError as e:\n",
        "             # This should theoretically not happen if identifiers match, but safeguard.\n",
        "             raise EinopsError(f\"Internal error during permutation calculation: Axis '{e}' not found.\")\n",
        "\n",
        "    # Step 3: Final Reshape (Merging/Repeating)\n",
        "    # Reshape is needed if any output dimension corresponds to more than one elementary axis OR if repeating occurs (handled implicitly by final shape calc).\n",
        "    needs_final_reshape = any(len(group) > 1 for group in right_composition if isinstance(group, list))  # Check if final reshape is needed\n",
        "\n",
        "    final_reshape_shape = []  # List for final reshape shape\n",
        "    if needs_final_reshape or axes_permutation is not None or needs_initial_reshape:  # Check if final shape is required\n",
        "        for group in right_composition:\n",
        "            if isinstance(group, list):  # Process list groups\n",
        "                group_len = 1  # Initialize group length\n",
        "                for axis in group:\n",
        "                    # Handle repeating axes (axes present on right but not left - impossible for rearrange)\n",
        "                    # Handle anonymous axes (like '2 c -> 2 c' - not applicable here)\n",
        "                    # This logic primarily handles merging.\n",
        "                    if axis not in axis_name_to_length:\n",
        "                         # This case should be caught earlier by identifier mismatch\n",
        "                         raise EinopsError(f\"Internal error: Axis '{axis}' length not found for final shape calculation.\")\n",
        "                    group_len *= axis_name_to_length[axis]  # Multiply axis length\n",
        "                final_reshape_shape.append(group_len)  # Add group length to shape\n",
        "            # else: This part handles cases like '-> scalar', not applicable for standard rearrange\n",
        "\n",
        "        # If the final shape is the same as the shape *after permutation*, no final reshape needed\n",
        "        # Calculate the shape after potential initial reshape and permutation\n",
        "        temp_shape_after_perm = list(init_reshape_shape) if init_reshape_shape else list(shape)  # Shape after initial reshape\n",
        "        if axes_permutation is not None:\n",
        "            # We need the shape *before* permutation to apply permutation correctly\n",
        "            shape_before_perm = list(init_reshape_shape) if init_reshape_shape else list(shape)  # Shape before permutation\n",
        "            temp_shape_after_perm = [shape_before_perm[i] for i in axes_permutation]  # Apply permutation\n",
        "\n",
        "        if tuple(final_reshape_shape) == tuple(temp_shape_after_perm):\n",
        "             final_reshape_shape = None  # No final reshape if shapes match\n",
        "        elif not final_reshape_shape:  # Check for invalid pattern\n",
        "             raise EinopsError(\"Pattern implies removing all dimensions, which is not supported by rearrange.\")\n",
        "\n",
        "    else:\n",
        "        # No operations needed at all (e.g., 'a b c -> a b c')\n",
        "        final_reshape_shape = None  # Set to None if no reshape needed\n",
        "\n",
        "    # Convert shapes to tuples or keep as None\n",
        "    init_reshape_shape = tuple(init_reshape_shape) if init_reshape_shape else None  # Convert initial shape to tuple\n",
        "    final_reshape_shape = tuple(final_reshape_shape) if final_reshape_shape else None  # Convert final shape to tuple\n",
        "\n",
        "    # Optimization: If permutation is identity, set to None\n",
        "    if axes_permutation == list(range(len(elemental_axes_list_left))):\n",
        "        axes_permutation = None  # Set permutation to None if identity\n",
        "\n",
        "    # --- Handle Repeating ---\n",
        "    # Repeating in `rearrange` is implicit when an axis appears multiple times or is combined differently.\n",
        "    # The logic above handles merging. True 'repeating' (like `repeat` function) isn't part of standard `rearrange`.\n",
        "    # The provided `axes_lengths` for decomposition handles cases like '(h w) -> h w c' where c's length must be provided.\n",
        "    # Cases like 'h w -> h w c' where c is *new* are for the `repeat` function, not `rearrange`.\n",
        "\n",
        "    return init_reshape_shape, axes_permutation, final_reshape_shape  # Return the transformation recipe\n",
        "\n",
        "# --- Main rearrange Function ---\n",
        "\n",
        "def rearrange_numpy(tensor: np.ndarray, pattern: str, **axes_lengths) -> np.ndarray:\n",
        "    \"\"\"\n",
        "    Replicates the core functionality of einops.rearrange for NumPy arrays.\n",
        "\n",
        "    Allows for flexible reshaping, transposing, splitting, and merging of axes\n",
        "    using Einstein notation-inspired syntax.\n",
        "\n",
        "    Args:\n",
        "        tensor: Input NumPy array.\n",
        "        pattern: String defining the rearrangement operation.\n",
        "                 Format: \"left_side -> right_side\"\n",
        "                 - Axes names are letters (e.g., 'h', 'w', 'batch').\n",
        "                 - Parentheses group axes for splitting/merging (e.g., '(h w)').\n",
        "                 - Ellipsis '...' represents any number of batch dimensions.\n",
        "        **axes_lengths: Keyword arguments specifying the lengths of axes\n",
        "                        involved in splitting operations.\n",
        "                        (e.g., rearrange(x, '(b1 b2) c -> b1 b2 c', b1=10))\n",
        "\n",
        "    Returns:\n",
        "        The rearranged NumPy array.\n",
        "\n",
        "    Raises:\n",
        "        EinopsError: If the pattern is invalid, shapes are incompatible,\n",
        "                     or required axes_lengths are missing/incorrect.\n",
        "        TypeError: If the input is not a NumPy array.\n",
        "\n",
        "    Examples:\n",
        "        >>> import numpy as np\n",
        "        >>> # Transpose height and width\n",
        "        >>> x = np.zeros((4, 5))\n",
        "        >>> rearrange_numpy(x, 'h w -> w h').shape\n",
        "        (5, 4)\n",
        "\n",
        "        >>> # Split channels into groups\n",
        "        >>> x = np.zeros((10, 12, 3)) # Batch, Pixels, Channels\n",
        "        >>> rearrange(x, 'b p (c g) -> b p c g', g=4).shape\n",
        "        (10, 12, 3, 4)\n",
        "\n",
        "        >>> # Merge height and width\n",
        "        >>> x = np.zeros((10, 28, 28, 3)) # Batch, Height, Width, Channels\n",
        "        >>> rearrange(x, 'b h w c -> b (h w) c').shape\n",
        "        (10, 784, 3)\n",
        "\n",
        "        >>> # Reorder and merge with ellipsis\n",
        "        >>> x = np.zeros((10, 20, 3, 4, 5)) # Ellipsis covers (10, 20)\n",
        "        >>> rearrange(x, '... a b c -> ... c (a b)').shape\n",
        "        (10, 20, 5, 12)\n",
        "\n",
        "        >>> # Decompose and reorder\n",
        "        >>> x = np.zeros((12, 10))\n",
        "        >>> rearrange(x, '(h w) c -> h w c', h=3).shape\n",
        "        (3, 4, 10)\n",
        "    \"\"\"\n",
        "    if not isinstance(tensor, np.ndarray):\n",
        "        raise TypeError(f\"Input must be a NumPy array, got {type(tensor)}.\")  # Validate input type\n",
        "\n",
        "    try:\n",
        "        init_shape, permutation, final_shape = _prepare_rearrange_recipe(\n",
        "            pattern, axes_lengths, tensor.shape\n",
        "        )  # Prepare transformation recipe\n",
        "\n",
        "        result = tensor  # Initialize result with input tensor\n",
        "        # Apply initial reshape if needed (decomposition)\n",
        "        if init_shape is not None:\n",
        "             # Check if the total number of elements matches before reshaping\n",
        "             if np.prod(tensor.shape) != np.prod(init_shape):\n",
        "                 raise EinopsError(f\"Cannot reshape array of size {np.prod(tensor.shape)} into shape {init_shape} (size {np.prod(init_shape)}) during initial decomposition. Pattern: '{pattern}', Input Shape: {tensor.shape}\")\n",
        "             result = result.reshape(init_shape)  # Perform initial reshape\n",
        "\n",
        "        # Apply transposition if needed\n",
        "        if permutation is not None:\n",
        "            result = result.transpose(permutation)  # Transpose tensor axes\n",
        "\n",
        "        # Apply final reshape if needed (merging)\n",
        "        if final_shape is not None:\n",
        "             # Check element count before final reshape\n",
        "             if np.prod(result.shape) != np.prod(final_shape):\n",
        "                  raise EinopsError(f\"Cannot reshape array of size {np.prod(result.shape)} into shape {final_shape} (size {np.prod(final_shape)}) during final merging. Pattern: '{pattern}', Input Shape: {tensor.shape}\")\n",
        "             result = result.reshape(final_shape)  # Perform final reshape\n",
        "\n",
        "        # --- Repeating Handling ---\n",
        "        # Repeating like in einops.repeat ('h w -> h w c', c=3) is NOT handled here.\n",
        "        # `rearrange` only rearranges existing elements. Cases requiring axes_lengths\n",
        "        # like `'(h w) c -> h w c'` are handled by the decomposition logic.\n",
        "        # If the final calculated shape requires *more* elements than available\n",
        "        # after permutation, the reshape operation itself would fail (or the\n",
        "        # recipe preparation should have caught it if possible).\n",
        "\n",
        "        return result  # Return transformed tensor\n",
        "\n",
        "    except EinopsError as e:\n",
        "        # Add context to the error message\n",
        "        raise EinopsError(f\"Error processing pattern '{pattern}' for tensor shape {tensor.shape}: {e}\")  # Raise error with context\n",
        "    except Exception as e:\n",
        "        # Catch unexpected errors during NumPy operations\n",
        "        raise EinopsError(f\"Unexpected error during rearrange operation for pattern '{pattern}': {e}\")  # Handle unexpected errors"
      ]
    },
    {
      "cell_type": "markdown",
      "metadata": {
        "id": "TJh5o1jo_EUg"
      },
      "source": [
        "## Function to run Test cases"
      ]
    },
    {
      "cell_type": "code",
      "execution_count": 2,
      "metadata": {
        "id": "91R08M4vQ0Fb"
      },
      "outputs": [],
      "source": [
        "def run_single_test(test_name, tensor, pattern, expected_shape, axes_lengths=None, expect_error=None):\n",
        "    \"\"\"\n",
        "    Runs a single test case for rearrange_numpy.\n",
        "\n",
        "    Args:\n",
        "        test_name (str): Name/description of the test.\n",
        "        tensor (np.ndarray): Input tensor to rearrange.\n",
        "        pattern (str): Rearrangement pattern.\n",
        "        expected_shape (tuple): Expected shape of the output tensor.\n",
        "        axes_lengths (dict, optional): Dictionary with axis lengths when needed (for decomposition).\n",
        "        expect_error (Exception class, optional): Expected error type if the case is supposed to fail.\n",
        "    \"\"\"\n",
        "    if axes_lengths is None:\n",
        "        axes_lengths = {}\n",
        "\n",
        "    print(f\"\\nRunning Test: {test_name}\")\n",
        "    print(f\"  Input Shape: {tensor.shape}\")\n",
        "    print(f\"  Pattern: '{pattern}'\")\n",
        "    if axes_lengths:\n",
        "        print(f\"  Axes Lengths: {axes_lengths}\")\n",
        "\n",
        "    try:\n",
        "        # Call the rearrange_numpy function with provided axes_lengths\n",
        "        result = rearrange_numpy(tensor, pattern, **axes_lengths)\n",
        "        if expect_error:\n",
        "            print(f\"  [FAILED] Expected error ({expect_error}) but got shape {result.shape}\")\n",
        "        elif result.shape == expected_shape:\n",
        "            print(f\"  [PASSED] Output Shape: {result.shape}\")\n",
        "        else:\n",
        "            print(f\"  [FAILED] Expected Shape: {expected_shape}, but got {result.shape}\")\n",
        "    except Exception as e:\n",
        "        if expect_error and isinstance(e, expect_error):\n",
        "            print(f\"  [PASSED] Correctly caught expected error: {type(e).__name__}: {e}\")\n",
        "        elif expect_error:\n",
        "            print(f\"  [FAILED] Expected error ({expect_error}) but got different error: {type(e).__name__}: {e}\")\n",
        "        else:\n",
        "            print(f\"  [FAILED] Unexpected error: {type(e).__name__}: {e}\")"
      ]
    },
    {
      "cell_type": "markdown",
      "metadata": {
        "id": "GWSHb4uODUyB"
      },
      "source": [
        "# Test Cases\n",
        "These test cases cover various scenarios including **decomposition, composition,reordering, identity, adding/removing axes, and potential edge cases**."
      ]
    },
    {
      "cell_type": "markdown",
      "metadata": {
        "id": "L-rxb6iSAXLO"
      },
      "source": [
        "### 1. Simple Reordering (Transpose)"
      ]
    },
    {
      "cell_type": "code",
      "execution_count": 3,
      "metadata": {
        "colab": {
          "base_uri": "https://localhost:8080/"
        },
        "id": "FbHHMNgrARVN",
        "outputId": "c085b13a-7e5d-4804-8f4a-855d7cc48662"
      },
      "outputs": [
        {
          "name": "stdout",
          "output_type": "stream",
          "text": [
            "\n",
            "Running Test: Simple Reorder B H W C -> B C H W\n",
            "  Input Shape: (2, 16, 32, 3)\n",
            "  Pattern: 'b h w c -> b c h w'\n",
            "  [PASSED] Output Shape: (2, 3, 16, 32)\n",
            "\n",
            "Running Test: Simple Reorder B H W C -> H W C B\n",
            "  Input Shape: (2, 16, 32, 3)\n",
            "  Pattern: 'b h w c -> h w c b'\n",
            "  [PASSED] Output Shape: (16, 32, 3, 2)\n"
          ]
        }
      ],
      "source": [
        "tensor1 = np.zeros((2, 16, 32, 3)) # B H W C\n",
        "run_single_test(\"Simple Reorder B H W C -> B C H W\", tensor1, 'b h w c -> b c h w', (2, 3, 16, 32))\n",
        "run_single_test(\"Simple Reorder B H W C -> H W C B\", tensor1, 'b h w c -> h w c b', (16, 32, 3, 2))"
      ]
    },
    {
      "cell_type": "markdown",
      "metadata": {
        "id": "qY7_OdDZAf8A"
      },
      "source": [
        "  ### 2. Composition (Flattening)"
      ]
    },
    {
      "cell_type": "code",
      "execution_count": 4,
      "metadata": {
        "colab": {
          "base_uri": "https://localhost:8080/"
        },
        "id": "4tigICfLARQ2",
        "outputId": "d943ea90-3f2d-4576-881e-7782a09dbb2c"
      },
      "outputs": [
        {
          "name": "stdout",
          "output_type": "stream",
          "text": [
            "\n",
            "Running Test: Composition A B C D -> A (B C) D\n",
            "  Input Shape: (4, 8, 5, 6)\n",
            "  Pattern: 'a b c d -> a (b c) d'\n",
            "  [PASSED] Output Shape: (4, 40, 6)\n",
            "\n",
            "Running Test: Composition A B C D -> (A B C D)\n",
            "  Input Shape: (4, 8, 5, 6)\n",
            "  Pattern: 'a b c d -> (a b c d)'\n",
            "  [PASSED] Output Shape: (960,)\n",
            "\n",
            "Running Test: Composition A B C D -> A B (C D)\n",
            "  Input Shape: (4, 8, 5, 6)\n",
            "  Pattern: 'a b c d -> a b (c d)'\n",
            "  [PASSED] Output Shape: (4, 8, 30)\n"
          ]
        }
      ],
      "source": [
        "# 2. Composition (Flattening)\n",
        "tensor2 = np.zeros((4, 8, 5, 6)) # A B C D\n",
        "run_single_test(\"Composition A B C D -> A (B C) D\", tensor2, 'a b c d -> a (b c) d', (4, 40, 6))\n",
        "run_single_test(\"Composition A B C D -> (A B C D)\", tensor2, 'a b c d -> (a b c d)', (4 * 8 * 5 * 6,))\n",
        "run_single_test(\"Composition A B C D -> A B (C D)\", tensor2, 'a b c d -> a b (c d)', (4, 8, 30))"
      ]
    },
    {
      "cell_type": "markdown",
      "metadata": {
        "id": "Rqdpza2AAtDA"
      },
      "source": [
        "### 3. Decomposition (Unflattening) - Requires axes_lengths"
      ]
    },
    {
      "cell_type": "code",
      "execution_count": 5,
      "metadata": {
        "colab": {
          "base_uri": "https://localhost:8080/"
        },
        "id": "REbJomR2AdYS",
        "outputId": "f7eda3d7-8016-4e9d-83af-8fd86000d5f6"
      },
      "outputs": [
        {
          "name": "stdout",
          "output_type": "stream",
          "text": [
            "\n",
            "Running Test: Decomposition B F -> B H W\n",
            "  Input Shape: (10, 120)\n",
            "  Pattern: 'b f -> b h w'\n",
            "  Axes Lengths: {'h': 10, 'w': 12}\n",
            "  [FAILED] Unexpected error: EinopsError: Error processing pattern 'b f -> b h w' for tensor shape (10, 120): Identifiers must be the same on both sides for rearrange. Difference: {'w', 'f', 'h'}\n",
            "\n",
            "Running Test: Decomposition B F -> B C H W\n",
            "  Input Shape: (10, 120)\n",
            "  Pattern: 'b (c h w) -> b c h w'\n",
            "  Axes Lengths: {'c': 3, 'h': 10, 'w': 4}\n",
            "  [PASSED] Output Shape: (10, 3, 10, 4)\n",
            "\n",
            "Running Test: Decomposition B F -> B H W (infer W)\n",
            "  Input Shape: (10, 120)\n",
            "  Pattern: 'b f -> b h w'\n",
            "  Axes Lengths: {'h': 10}\n",
            "  [FAILED] Unexpected error: EinopsError: Error processing pattern 'b f -> b h w' for tensor shape (10, 120): Identifiers must be the same on both sides for rearrange. Difference: {'w', 'f', 'h'}\n",
            "\n",
            "Running Test: Decomposition B F -> B H W (infer H)\n",
            "  Input Shape: (10, 120)\n",
            "  Pattern: 'b f -> b h w'\n",
            "  Axes Lengths: {'w': 12}\n",
            "  [FAILED] Unexpected error: EinopsError: Error processing pattern 'b f -> b h w' for tensor shape (10, 120): Identifiers must be the same on both sides for rearrange. Difference: {'w', 'f', 'h'}\n"
          ]
        }
      ],
      "source": [
        "# 3. Decomposition (Unflattening) - Requires axes_lengths\n",
        "tensor3 = np.zeros((10, 120)) # Batch, Features (10 * 12)\n",
        "run_single_test(\"Decomposition B F -> B H W\", tensor3, 'b f -> b h w', (10, 10, 12), axes_lengths={'h': 10, 'w': 12})\n",
        "run_single_test(\"Decomposition B F -> B C H W\", tensor3, 'b (c h w) -> b c h w', (10, 3, 10, 4), axes_lengths={'c': 3, 'h': 10, 'w': 4})\n",
        "# Test with partial specification (w inferred)\n",
        "run_single_test(\"Decomposition B F -> B H W (infer W)\", tensor3, 'b f -> b h w', (10, 10, 12), axes_lengths={'h': 10})\n",
        "# Test with partial specification (h inferred)\n",
        "run_single_test(\"Decomposition B F -> B H W (infer H)\", tensor3, 'b f -> b h w', (10, 10, 12), axes_lengths={'w': 12})\n"
      ]
    },
    {
      "cell_type": "markdown",
      "metadata": {
        "id": "k_bqUTiPDMK4"
      },
      "source": [
        "### 4. Combined Composition and Decomposition"
      ]
    },
    {
      "cell_type": "code",
      "execution_count": 6,
      "metadata": {
        "colab": {
          "base_uri": "https://localhost:8080/"
        },
        "id": "xP7C28awAdUV",
        "outputId": "000be903-76d0-4261-c51e-f3b61224c790"
      },
      "outputs": [
        {
          "name": "stdout",
          "output_type": "stream",
          "text": [
            "\n",
            "Running Test: Combine B (H W) C -> (B H) W C\n",
            "  Input Shape: (5, 60, 3)\n",
            "  Pattern: 'b (h w) c -> (b h) w c'\n",
            "  Axes Lengths: {'h': 10}\n",
            "  [PASSED] Output Shape: (50, 6, 3)\n",
            "\n",
            "Running Test: Combine (A B) (C D) -> A C B D\n",
            "  Input Shape: (6, 20)\n",
            "  Pattern: '(a b) (c d) -> a c b d'\n",
            "  Axes Lengths: {'a': 2, 'd': 5}\n",
            "  [PASSED] Output Shape: (2, 4, 3, 5)\n"
          ]
        }
      ],
      "source": [
        "tensor4 = np.zeros((5, 60, 3)) # Batch, (H W), Channels where H=10, W=6\n",
        "run_single_test(\"Combine B (H W) C -> (B H) W C\", tensor4, 'b (h w) c -> (b h) w c', (50, 6, 3), axes_lengths={'h': 10}) # w=6 inferred\n",
        "tensor5 = np.zeros((2 * 3, 4 * 5)) # (A B), (C D)\n",
        "run_single_test(\"Combine (A B) (C D) -> A C B D\", tensor5, '(a b) (c d) -> a c b d', (2, 4, 3, 5), axes_lengths={'a': 2, 'd': 5}) # b=3, c=4 inferred"
      ]
    },
    {
      "cell_type": "markdown",
      "metadata": {
        "id": "3m3EnKGtDH8T"
      },
      "source": [
        "### 5. Identity Transformation"
      ]
    },
    {
      "cell_type": "code",
      "execution_count": 7,
      "metadata": {
        "colab": {
          "base_uri": "https://localhost:8080/"
        },
        "id": "b5RTJxTcAdSS",
        "outputId": "6079fbdd-348d-4f5c-feed-067ed63ba229"
      },
      "outputs": [
        {
          "name": "stdout",
          "output_type": "stream",
          "text": [
            "\n",
            "Running Test: Identity B H W C -> B H W C\n",
            "  Input Shape: (2, 16, 32, 3)\n",
            "  Pattern: 'b h w c -> b h w c'\n",
            "  [PASSED] Output Shape: (2, 16, 32, 3)\n"
          ]
        }
      ],
      "source": [
        "run_single_test(\"Identity B H W C -> B H W C\", tensor1, 'b h w c -> b h w c', tensor1.shape)"
      ]
    },
    {
      "cell_type": "markdown",
      "metadata": {
        "id": "GRfUqMUeDD8Q"
      },
      "source": [
        "### 6. Adding Dimension"
      ]
    },
    {
      "cell_type": "code",
      "execution_count": 8,
      "metadata": {
        "colab": {
          "base_uri": "https://localhost:8080/"
        },
        "id": "WgkZBC8PAdPs",
        "outputId": "bf40cd62-11d0-43ec-c79d-f520e2f52ccd"
      },
      "outputs": [
        {
          "name": "stdout",
          "output_type": "stream",
          "text": [
            "\n",
            "Running Test: Add Dimension H W -> 1 H W\n",
            "  Input Shape: (32, 32)\n",
            "  Pattern: 'h w -> 1 h w'\n",
            "  [FAILED] Expected Shape: (1, 32, 32), but got (32, 32)\n",
            "\n",
            "Running Test: Add Dimension H W -> H 1 W\n",
            "  Input Shape: (32, 32)\n",
            "  Pattern: 'h w -> h 1 w'\n",
            "  [FAILED] Expected Shape: (32, 1, 32), but got (32, 32)\n"
          ]
        }
      ],
      "source": [
        "tensor6 = np.zeros((32, 32)) # H W\n",
        "run_single_test(\"Add Dimension H W -> 1 H W\", tensor6, 'h w -> 1 h w', (1, 32, 32))\n",
        "run_single_test(\"Add Dimension H W -> H 1 W\", tensor6, 'h w -> h 1 w', (32, 1, 32))"
      ]
    },
    {
      "cell_type": "markdown",
      "metadata": {
        "id": "_CF4UViIC2KD"
      },
      "source": [
        "### 7. Removing Dimension (Size 1) & Test removing non-leading dimension 1"
      ]
    },
    {
      "cell_type": "code",
      "execution_count": 9,
      "metadata": {
        "colab": {
          "base_uri": "https://localhost:8080/"
        },
        "id": "-QgTgcNGARMT",
        "outputId": "95f75ce6-9852-4afe-b281-adb6879d06fe"
      },
      "outputs": [
        {
          "name": "stdout",
          "output_type": "stream",
          "text": [
            "\n",
            "Running Test: Remove Dimension 1 H W C -> H W C\n",
            "  Input Shape: (1, 32, 32, 5)\n",
            "  Pattern: '1 h w c -> h w c'\n",
            "  [FAILED] Unexpected error: EinopsError: Unexpected error during rearrange operation for pattern '1 h w c -> h w c': list index out of range\n",
            "\n",
            "Running Test: Remove Dimension H 1 W C -> H W C\n",
            "  Input Shape: (32, 1, 32, 5)\n",
            "  Pattern: 'h 1 w c -> h w c'\n",
            "  [FAILED] Unexpected error: EinopsError: Unexpected error during rearrange operation for pattern 'h 1 w c -> h w c': list index out of range\n"
          ]
        }
      ],
      "source": [
        "# 7. Removing Dimension (Size 1)\n",
        "tensor7 = np.zeros((1, 32, 32, 5)) # 1 H W C\n",
        "run_single_test(\"Remove Dimension 1 H W C -> H W C\", tensor7, '1 h w c -> h w c', (32, 32, 5))\n",
        "# Test removing non-leading dimension 1\n",
        "tensor8 = np.zeros((32, 1, 32, 5)) # H 1 W C\n",
        "run_single_test(\"Remove Dimension H 1 W C -> H W C\", tensor8, 'h 1 w c -> h w c', (32, 32, 5))"
      ]
    },
    {
      "cell_type": "markdown",
      "metadata": {
        "id": "kiCW5AoTCry9"
      },
      "source": [
        "### 8. Ellipsis (...)"
      ]
    },
    {
      "cell_type": "code",
      "execution_count": 10,
      "metadata": {
        "colab": {
          "base_uri": "https://localhost:8080/"
        },
        "id": "DLzo5PVYARHf",
        "outputId": "c01f3421-7e91-4d6e-c353-60ede6c9dd99"
      },
      "outputs": [
        {
          "name": "stdout",
          "output_type": "stream",
          "text": [
            "\n",
            "Running Test: Ellipsis ... D E -> D ... E\n",
            "  Input Shape: (10, 20, 30, 40, 50)\n",
            "  Pattern: '... d e -> d ... e'\n",
            "  [PASSED] Output Shape: (40, 10, 20, 30, 50)\n",
            "\n",
            "Running Test: Ellipsis A B ... -> ... A B\n",
            "  Input Shape: (10, 20, 30, 40, 50)\n",
            "  Pattern: 'a b ... -> ... a b'\n",
            "  [PASSED] Output Shape: (30, 40, 50, 10, 20)\n",
            "\n",
            "Running Test: Ellipsis with Composition A B ... E -> A (B ...) E\n",
            "  Input Shape: (10, 20, 30, 40, 50)\n",
            "  Pattern: 'a b ... e -> a (b ...) e'\n",
            "  [PASSED] Output Shape: (10, 24000, 50)\n",
            "\n",
            "Running Test: Ellipsis with Decomposition (A B) ... -> A B ...\n",
            "  Input Shape: (6, 30, 40, 50)\n",
            "  Pattern: '(a b) ... -> a b ...'\n",
            "  Axes Lengths: {'a': 2}\n",
            "  [PASSED] Output Shape: (2, 3, 30, 40, 50)\n"
          ]
        }
      ],
      "source": [
        "tensor9 = np.zeros((10, 20, 30, 40, 50)) # A B C D E\n",
        "run_single_test(\"Ellipsis ... D E -> D ... E\", tensor9, '... d e -> d ... e', (40, 10, 20, 30, 50))\n",
        "run_single_test(\"Ellipsis A B ... -> ... A B\", tensor9, 'a b ... -> ... a b', (30, 40, 50, 10, 20))\n",
        "run_single_test(\"Ellipsis with Composition A B ... E -> A (B ...) E\", tensor9, 'a b ... e -> a (b ...) e', (10, 20 * 30 * 40, 50))\n",
        "run_single_test(\"Ellipsis with Decomposition (A B) ... -> A B ...\", np.zeros((6, 30, 40, 50)), '(a b) ... -> a b ...', (2, 3, 30, 40, 50), axes_lengths={'a': 2}) # b=3 inferred\n"
      ]
    },
    {
      "cell_type": "markdown",
      "metadata": {
        "id": "zWbORWTyCfn2"
      },
      "source": [
        "## Edge Cases\n",
        "### 9. Empty Array"
      ]
    },
    {
      "cell_type": "code",
      "execution_count": 11,
      "metadata": {
        "colab": {
          "base_uri": "https://localhost:8080/"
        },
        "id": "OzE1n0kTARD5",
        "outputId": "028d6650-294d-4359-958b-fd96dd97ac6f"
      },
      "outputs": [
        {
          "name": "stdout",
          "output_type": "stream",
          "text": [
            "\n",
            "Running Test: Edge Case: Empty Array Reorder\n",
            "  Input Shape: (0, 10)\n",
            "  Pattern: 'z t -> t z'\n",
            "  [PASSED] Output Shape: (10, 0)\n",
            "\n",
            "Running Test: Edge Case: Empty Array Composition\n",
            "  Input Shape: (0, 10)\n",
            "  Pattern: 'z t -> (z t)'\n",
            "  [PASSED] Output Shape: (0,)\n",
            "\n",
            "Running Test: Edge Case: Empty Array Decomposition\n",
            "  Input Shape: (0,)\n",
            "  Pattern: '(z t) -> z t'\n",
            "  Axes Lengths: {'t': 10}\n",
            "  [PASSED] Output Shape: (0, 10)\n"
          ]
        }
      ],
      "source": [
        "# 9. Empty Array\n",
        "tensor_empty = np.zeros((0, 10))\n",
        "# Rearranging axes should still work, shape changes\n",
        "run_single_test(\"Edge Case: Empty Array Reorder\", tensor_empty, 'z t -> t z', (10, 0))\n",
        "# Composition/Decomposition might yield shape with 0\n",
        "run_single_test(\"Edge Case: Empty Array Composition\", tensor_empty, 'z t -> (z t)', (0,))\n",
        "run_single_test(\"Edge Case: Empty Array Decomposition\", np.zeros((0,)), '(z t) -> z t', (0, 10), axes_lengths={'t': 10}, expect_error=None) # Result shape depends on how 0*10 is handled, expect (0, 10"
      ]
    },
    {
      "cell_type": "markdown",
      "metadata": {
        "id": "FOXz2B1HCST6"
      },
      "source": [
        "### 10. Array with Zero Dimension Size & Decomposition involving zero dim"
      ]
    },
    {
      "cell_type": "code",
      "execution_count": null,
      "metadata": {
        "colab": {
          "base_uri": "https://localhost:8080/"
        },
        "id": "o4sdqYZuBJJt",
        "outputId": "cb4038b0-82e7-4bf0-b26d-304a022603fd"
      },
      "outputs": [
        {
          "name": "stdout",
          "output_type": "stream",
          "text": [
            "\n",
            "Running Test: Edge Case: Zero Dimension Reorder\n",
            "  Input Shape: (5, 0, 10)\n",
            "  Pattern: 'a z b -> z a b'\n",
            "  [PASSED] Output Shape: (0, 5, 10)\n",
            "\n",
            "Running Test: Edge Case: Zero Dimension Composition\n",
            "  Input Shape: (5, 0, 10)\n",
            "  Pattern: 'a z b -> a (z b)'\n",
            "  [PASSED] Output Shape: (5, 0)\n",
            "\n",
            "Running Test: Edge Case: Zero Dimension Decomposition\n",
            "  Input Shape: (5, 0)\n",
            "  Pattern: 'a zb -> a z b'\n",
            "  Axes Lengths: {'z': 0, 'b': 10}\n",
            "  [FAILED] Unexpected error: EinopsError: Error processing pattern 'a zb -> a z b' for tensor shape (5, 0): Identifiers must be the same on both sides for rearrange. Difference: {'b', 'z', 'zb'}\n",
            "\n",
            "Running Test: Edge Case: Zero Dimension Decomposition (infer 0)\n",
            "  Input Shape: (5, 0)\n",
            "  Pattern: 'a zb -> a z b'\n",
            "  Axes Lengths: {'b': 10}\n",
            "  [FAILED] Unexpected error: EinopsError: Error processing pattern 'a zb -> a z b' for tensor shape (5, 0): Identifiers must be the same on both sides for rearrange. Difference: {'b', 'z', 'zb'}\n"
          ]
        }
      ],
      "source": [
        "# Array with Zero Dimension Size\n",
        "tensor_zero_dim = np.zeros((5, 0, 10)) # A Z B\n",
        "run_single_test(\"Edge Case: Zero Dimension Reorder\", tensor_zero_dim, 'a z b -> z a b', (0, 5, 10))\n",
        "run_single_test(\"Edge Case: Zero Dimension Composition\", tensor_zero_dim, 'a z b -> a (z b)', (5, 0))\n",
        "# Decomposition involving zero dim\n",
        "tensor_zero_comp = np.zeros((5, 0)) # A (Z B)\n",
        "run_single_test(\"Edge Case: Zero Dimension Decomposition\", tensor_zero_comp, 'a (z b) -> a z b', (5, 0, 10), axes_lengths={'z': 0, 'b': 10}) # Need z=0 specified\n",
        "run_single_test(\"Edge Case: Zero Dimension Decomposition (infer 0)\", tensor_zero_comp, 'a (z )b -> a z b', (5, 0, 10), axes_lengths={'b': 10}) # Can z=0 be inferred? (Depends on einops impl.)\n"
      ]
    },
    {
      "cell_type": "markdown",
      "metadata": {
        "id": "N2MrCUxNCJK8"
      },
      "source": [
        "### 11. Pattern Mismatch - Incorrect number of axes"
      ]
    },
    {
      "cell_type": "code",
      "execution_count": 13,
      "metadata": {
        "colab": {
          "base_uri": "https://localhost:8080/"
        },
        "id": "023W5XW1BJFS",
        "outputId": "4eecc0d3-e067-460c-c472-e43957f5518c"
      },
      "outputs": [
        {
          "name": "stdout",
          "output_type": "stream",
          "text": [
            "\n",
            "Running Test: Error Case: Pattern Axis Number Mismatch (Input)\n",
            "  Input Shape: (2, 16, 32, 3)\n",
            "  Pattern: 'b h w -> b c h w'\n",
            "  [PASSED] Correctly caught expected error: EinopsError: Error processing pattern 'b h w -> b c h w' for tensor shape (2, 16, 32, 3): Identifiers must be the same on both sides for rearrange. Difference: {'c'}\n",
            "\n",
            "Running Test: Error Case: Pattern Axis Number Mismatch (Output)\n",
            "  Input Shape: (2, 16, 32, 3)\n",
            "  Pattern: 'b h w c d -> b c h w'\n",
            "  [PASSED] Correctly caught expected error: EinopsError: Error processing pattern 'b h w c d -> b c h w' for tensor shape (2, 16, 32, 3): Identifiers must be the same on both sides for rearrange. Difference: {'d'}\n"
          ]
        }
      ],
      "source": [
        "run_single_test(\"Error Case: Pattern Axis Number Mismatch (Input)\", tensor1, 'b h w -> b c h w', None, expect_error=EinopsError) # Input pattern too short\n",
        "run_single_test(\"Error Case: Pattern Axis Number Mismatch (Output)\", tensor1, 'b h w c d -> b c h w', None, expect_error=EinopsError) # Input pattern too long\n"
      ]
    },
    {
      "cell_type": "markdown",
      "metadata": {
        "id": "21VY3r8vCDsb"
      },
      "source": [
        "### 12. Pattern Mismatch - Dimension size mismatch during decomposition"
      ]
    },
    {
      "cell_type": "code",
      "execution_count": 14,
      "metadata": {
        "colab": {
          "base_uri": "https://localhost:8080/"
        },
        "id": "JTYl8X8VBJBZ",
        "outputId": "37dfa35d-4bcc-47ce-dc2c-1f3d1aa0e552"
      },
      "outputs": [
        {
          "name": "stdout",
          "output_type": "stream",
          "text": [
            "\n",
            "Running Test: Error Case: Decomposition Size Mismatch\n",
            "  Input Shape: (10, 120)\n",
            "  Pattern: 'b (h w) -> b h w'\n",
            "  Axes Lengths: {'h': 7, 'w': 10}\n",
            "  [PASSED] Correctly caught expected error: EinopsError: Error processing pattern 'b (h w) -> b h w' for tensor shape (10, 120): Dimension mismatch for input axis 1 (group h w): Product of known axes lengths (70) != input dimension (120).\n"
          ]
        }
      ],
      "source": [
        "# tensor3 shape is (10, 120)\n",
        "run_single_test(\"Error Case: Decomposition Size Mismatch\", tensor3, 'b (h w) -> b h w', None, axes_lengths={'h': 7, 'w': 10}, expect_error=EinopsError) # 7*10 != 120"
      ]
    },
    {
      "cell_type": "markdown",
      "metadata": {
        "id": "nLvyAPHiB9ug"
      },
      "source": [
        "### 13. Missing axes_lengths for decomposition"
      ]
    },
    {
      "cell_type": "code",
      "execution_count": 15,
      "metadata": {
        "colab": {
          "base_uri": "https://localhost:8080/"
        },
        "id": "gYlaH_2CBbxc",
        "outputId": "7cb1a008-dc23-4122-a659-421125cfa18f"
      },
      "outputs": [
        {
          "name": "stdout",
          "output_type": "stream",
          "text": [
            "\n",
            "Running Test: Error Case: Missing axis length for decomposition\n",
            "  Input Shape: (10, 120)\n",
            "  Pattern: 'b (h w) -> b h w'\n",
            "  [PASSED] Correctly caught expected error: EinopsError: Error processing pattern 'b (h w) -> b h w' for tensor shape (10, 120): Cannot infer lengths for multiple axes (h, w) in group for input dimension 1. Provide lengths in axes_lengths.\n"
          ]
        }
      ],
      "source": [
        "run_single_test(\"Error Case: Missing axis length for decomposition\", tensor3, 'b (h w) -> b h w', None, expect_error=EinopsError) # h, w not provided"
      ]
    },
    {
      "cell_type": "markdown",
      "metadata": {
        "id": "rHkm4EZIB490"
      },
      "source": [
        "### 14. Incorrect axes_lengths value"
      ]
    },
    {
      "cell_type": "code",
      "execution_count": 16,
      "metadata": {
        "colab": {
          "base_uri": "https://localhost:8080/"
        },
        "id": "3TQRV5WIBbr6",
        "outputId": "94910a34-e002-4d3f-9663-45d7bbd5b1a6"
      },
      "outputs": [
        {
          "name": "stdout",
          "output_type": "stream",
          "text": [
            "\n",
            "Running Test: Error Case: Invalid axis length type\n",
            "  Input Shape: (10, 120)\n",
            "  Pattern: 'b (h w) -> b h w'\n",
            "  Axes Lengths: {'h': 10.5}\n",
            "  [PASSED] Correctly caught expected error: EinopsError: Error processing pattern 'b (h w) -> b h w' for tensor shape (10, 120): Axis 'h' must have a positive integer length, got 10.5.\n",
            "\n",
            "Running Test: Error Case: Invalid axis length value\n",
            "  Input Shape: (10, 120)\n",
            "  Pattern: 'b (h w) -> b h w'\n",
            "  Axes Lengths: {'h': -10}\n",
            "  [PASSED] Correctly caught expected error: EinopsError: Error processing pattern 'b (h w) -> b h w' for tensor shape (10, 120): Axis 'h' must have a positive integer length, got -10.\n"
          ]
        }
      ],
      "source": [
        "# Incorrect axes_lengths value (e.g., non-integer, negative) - Einops parsing should catch this\n",
        "run_single_test(\"Error Case: Invalid axis length type\", tensor3, 'b (h w) -> b h w', None, axes_lengths={'h': 10.5}, expect_error=(EinopsError, TypeError)) # Or maybe TypeError depending on check\n",
        "run_single_test(\"Error Case: Invalid axis length value\", tensor3, 'b (h w) -> b h w', None, axes_lengths={'h': -10}, expect_error=EinopsError)\n"
      ]
    },
    {
      "cell_type": "markdown",
      "metadata": {
        "id": "vixIwfnTBwM-"
      },
      "source": [
        "### 15. Invalid Pattern Syntax"
      ]
    },
    {
      "cell_type": "code",
      "execution_count": 17,
      "metadata": {
        "colab": {
          "base_uri": "https://localhost:8080/"
        },
        "id": "mnirPZ-mBfUp",
        "outputId": "d61f53de-42e2-426e-f218-56d146e976ba"
      },
      "outputs": [
        {
          "name": "stdout",
          "output_type": "stream",
          "text": [
            "\n",
            "Running Test: Error Case: Invalid Pattern Syntax (->)\n",
            "  Input Shape: (2, 16, 32, 3)\n",
            "  Pattern: 'b h w c'\n",
            "  [PASSED] Correctly caught expected error: EinopsError: Error processing pattern 'b h w c' for tensor shape (2, 16, 32, 3): Pattern must include '->' separator.\n",
            "\n",
            "Running Test: Error Case: Invalid Pattern Syntax (Repeated Axis Output)\n",
            "  Input Shape: (2, 16, 32, 3)\n",
            "  Pattern: 'b h w c -> b b h w'\n",
            "  [PASSED] Correctly caught expected error: EinopsError: Error processing pattern 'b h w c -> b b h w' for tensor shape (2, 16, 32, 3): Duplicate axis identifier: 'b'\n",
            "\n",
            "Running Test: Error Case: Invalid Pattern Syntax (Unknown Char)\n",
            "  Input Shape: (2, 16, 32, 3)\n",
            "  Pattern: 'b h w c -> b ! h w'\n",
            "  [PASSED] Correctly caught expected error: EinopsError: Error processing pattern 'b h w c -> b ! h w' for tensor shape (2, 16, 32, 3): Invalid axis identifier: '!'. Use letters, numbers, underscores, or '...' (ellipsis).\n"
          ]
        }
      ],
      "source": [
        "run_single_test(\"Error Case: Invalid Pattern Syntax (->)\", tensor1, 'b h w c', None, expect_error=(EinopsError, ValueError)) # Missing '->'\n",
        "run_single_test(\"Error Case: Invalid Pattern Syntax (Repeated Axis Output)\", tensor1, 'b h w c -> b b h w', None, expect_error=EinopsError)\n",
        "run_single_test(\"Error Case: Invalid Pattern Syntax (Unknown Char)\", tensor1, 'b h w c -> b ! h w', None, expect_error=(EinopsError, ValueError))\n"
      ]
    },
    {
      "cell_type": "markdown",
      "metadata": {
        "id": "QoKIfLhxBofB"
      },
      "source": [
        " ### 16. Removing non-singleton dimension"
      ]
    },
    {
      "cell_type": "code",
      "execution_count": 18,
      "metadata": {
        "colab": {
          "base_uri": "https://localhost:8080/"
        },
        "id": "lG-dk_xpBfRC",
        "outputId": "f63f0ed7-f592-431b-8b16-3cfb0499319a"
      },
      "outputs": [
        {
          "name": "stdout",
          "output_type": "stream",
          "text": [
            "\n",
            "Running Test: Error Case: Remove Non-Singleton Dim\n",
            "  Input Shape: (2, 16, 32, 3)\n",
            "  Pattern: 'b h w c -> h w c'\n",
            "  [PASSED] Correctly caught expected error: EinopsError: Error processing pattern 'b h w c -> h w c' for tensor shape (2, 16, 32, 3): Identifiers must be the same on both sides for rearrange. Difference: {'b'}\n"
          ]
        }
      ],
      "source": [
        "run_single_test(\"Error Case: Remove Non-Singleton Dim\", tensor1, 'b h w c -> h w c', None, expect_error=EinopsError) # b is 2, not 1"
      ]
    }
  ],
  "metadata": {
    "colab": {
      "provenance": []
    },
    "kernelspec": {
      "display_name": "Python 3",
      "name": "python3"
    },
    "language_info": {
      "name": "python"
    }
  },
  "nbformat": 4,
  "nbformat_minor": 0
}
